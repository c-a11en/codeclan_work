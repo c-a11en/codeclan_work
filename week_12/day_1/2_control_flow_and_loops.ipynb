{
 "cells": [
  {
   "cell_type": "code",
   "execution_count": 2,
   "id": "3182a55b",
   "metadata": {},
   "outputs": [
    {
     "name": "stdout",
     "output_type": "stream",
     "text": [
      "Heatwave warning!\n"
     ]
    }
   ],
   "source": [
    "temperature = 28\n",
    "if temperature > 20:\n",
    "    print(\"Heatwave warning!\")"
   ]
  },
  {
   "cell_type": "code",
   "execution_count": 5,
   "id": "d6c1ba51",
   "metadata": {},
   "outputs": [
    {
     "name": "stdout",
     "output_type": "stream",
     "text": [
      "Perfect\n"
     ]
    }
   ],
   "source": [
    "temperature = 16\n",
    "\n",
    "if temperature > 20:\n",
    "    print(\"Heatwave warning!\")\n",
    "elif temperature < 10:\n",
    "    print(\"The usual.\")\n",
    "else:\n",
    "    print(\"Perfect\")"
   ]
  },
  {
   "cell_type": "markdown",
   "id": "8bde5acd",
   "metadata": {},
   "source": [
    "# Loops"
   ]
  },
  {
   "cell_type": "code",
   "execution_count": 6,
   "id": "cd6b613b",
   "metadata": {},
   "outputs": [
    {
     "name": "stdout",
     "output_type": "stream",
     "text": [
      "2\n",
      "4\n",
      "6\n",
      "8\n"
     ]
    }
   ],
   "source": [
    "numbers = [1, 2, 3, 4]\n",
    "\n",
    "for number in numbers:\n",
    "    print(number * 2)"
   ]
  },
  {
   "cell_type": "code",
   "execution_count": 7,
   "id": "26cf4337",
   "metadata": {},
   "outputs": [
    {
     "name": "stdout",
     "output_type": "stream",
     "text": [
      "Del\n",
      "63\n",
      "['English', 'Terrible Puns']\n"
     ]
    }
   ],
   "source": [
    "person = {\n",
    "    \"name\": \"Del\",\n",
    "    \"age\": 63,\n",
    "    \"languages\": [\"English\", \"Terrible Puns\"]\n",
    "}\n",
    "\n",
    "for value in person.values():\n",
    "    print(value)"
   ]
  },
  {
   "cell_type": "code",
   "execution_count": 8,
   "id": "48aaf58e",
   "metadata": {},
   "outputs": [],
   "source": [
    "numbers = [1, 6, 2, 2, 7, 1, 6, 13, 99, 7]"
   ]
  },
  {
   "cell_type": "code",
   "execution_count": 10,
   "id": "88fc3a63",
   "metadata": {},
   "outputs": [],
   "source": [
    "even_numbers = []"
   ]
  },
  {
   "cell_type": "code",
   "execution_count": 11,
   "id": "728b6a3c",
   "metadata": {},
   "outputs": [
    {
     "name": "stdout",
     "output_type": "stream",
     "text": [
      "[6, 2, 2, 6]\n"
     ]
    }
   ],
   "source": [
    "for number in numbers:\n",
    "    if number % 2 == 0:\n",
    "        even_numbers.append(number)\n",
    "        \n",
    "print(even_numbers)"
   ]
  },
  {
   "cell_type": "markdown",
   "id": "fc51ad19",
   "metadata": {},
   "source": [
    "# List comprehensions"
   ]
  },
  {
   "cell_type": "code",
   "execution_count": 15,
   "id": "126182a4",
   "metadata": {},
   "outputs": [],
   "source": [
    "numbers = [1, 2, 3, 4]\n",
    "numbers_squared = []"
   ]
  },
  {
   "cell_type": "code",
   "execution_count": 16,
   "id": "dc8f4741",
   "metadata": {},
   "outputs": [
    {
     "name": "stdout",
     "output_type": "stream",
     "text": [
      "[1, 4, 9, 16]\n"
     ]
    }
   ],
   "source": [
    "for number in numbers:\n",
    "    numbers_squared.append(number * number)\n",
    "    \n",
    "print(numbers_squared)"
   ]
  },
  {
   "cell_type": "code",
   "execution_count": 17,
   "id": "89efd30f",
   "metadata": {},
   "outputs": [
    {
     "data": {
      "text/plain": [
       "[1, 4, 9, 16]"
      ]
     },
     "execution_count": 17,
     "metadata": {},
     "output_type": "execute_result"
    }
   ],
   "source": [
    "numbers_squared = [number * number for number in numbers]\n",
    "\n",
    "numbers_squared"
   ]
  },
  {
   "cell_type": "code",
   "execution_count": 20,
   "id": "6ed31680",
   "metadata": {},
   "outputs": [
    {
     "data": {
      "text/plain": [
       "[0, 12, 24, 36, 48, 60, 72, 84, 96]"
      ]
     },
     "execution_count": 20,
     "metadata": {},
     "output_type": "execute_result"
    }
   ],
   "source": [
    "multiples_of_12 = []\n",
    "for number in range(101):\n",
    "    if number % 12 == 0:\n",
    "        multiples_of_12.append(number)\n",
    "        \n",
    "multiples_of_12"
   ]
  },
  {
   "cell_type": "code",
   "execution_count": 21,
   "id": "86be679c",
   "metadata": {},
   "outputs": [
    {
     "data": {
      "text/plain": [
       "[0, 12, 24, 36, 48, 60, 72, 84, 96]"
      ]
     },
     "execution_count": 21,
     "metadata": {},
     "output_type": "execute_result"
    }
   ],
   "source": [
    "[number for number in range(101) if number % 12 == 0]"
   ]
  },
  {
   "cell_type": "code",
   "execution_count": 22,
   "id": "3bd197b0",
   "metadata": {},
   "outputs": [],
   "source": [
    "words = [\"apple\", \"orange\", \"lemon\"]\n",
    "\n",
    "length_of_words = {word: len(word) for word in words}"
   ]
  },
  {
   "cell_type": "code",
   "execution_count": 23,
   "id": "db0d503b",
   "metadata": {},
   "outputs": [
    {
     "data": {
      "text/plain": [
       "{'apple': 5, 'orange': 6, 'lemon': 5}"
      ]
     },
     "execution_count": 23,
     "metadata": {},
     "output_type": "execute_result"
    }
   ],
   "source": [
    "length_of_words"
   ]
  },
  {
   "cell_type": "code",
   "execution_count": null,
   "id": "74ede300",
   "metadata": {},
   "outputs": [],
   "source": [
    "# first loop\n",
    "primes = []\n",
    "for i in range(2, 100):\n",
    "    if i % 2 != 0 and i % 3 != 0 and i % 5 != 0 and i % 7 !=0 and i % 11 != 0:\n",
    "        primes.append(i)\n",
    "\n",
    "# second loop\n",
    "ordinal_dict = {}\n",
    "\n",
    "for number in range(4, 11):\n",
    "    ordinal_dict[number] = str(number) + 'th'"
   ]
  },
  {
   "cell_type": "code",
   "execution_count": 27,
   "id": "0d176145",
   "metadata": {},
   "outputs": [
    {
     "data": {
      "text/plain": [
       "[13,\n",
       " 17,\n",
       " 19,\n",
       " 23,\n",
       " 29,\n",
       " 31,\n",
       " 37,\n",
       " 41,\n",
       " 43,\n",
       " 47,\n",
       " 53,\n",
       " 59,\n",
       " 61,\n",
       " 67,\n",
       " 71,\n",
       " 73,\n",
       " 79,\n",
       " 83,\n",
       " 89,\n",
       " 97]"
      ]
     },
     "execution_count": 27,
     "metadata": {},
     "output_type": "execute_result"
    }
   ],
   "source": [
    "primes = [i for i in range(2, 100) if i % 2 != 0 and i % 3 != 0 and i % 5 != 0 and i % 7 !=0 and i % 11 != 0]\n",
    "primes"
   ]
  },
  {
   "cell_type": "code",
   "execution_count": 26,
   "id": "7e55cc7e",
   "metadata": {},
   "outputs": [
    {
     "data": {
      "text/plain": [
       "{4: '4th', 5: '5th', 6: '6th', 7: '7th', 8: '8th', 9: '9th', 10: '10th'}"
      ]
     },
     "execution_count": 26,
     "metadata": {},
     "output_type": "execute_result"
    }
   ],
   "source": [
    "ordinal_dict = {number: str(number) + \"th\" for number in range(4,11)}\n",
    "ordinal_dict"
   ]
  },
  {
   "cell_type": "code",
   "execution_count": null,
   "id": "1883863c",
   "metadata": {},
   "outputs": [],
   "source": []
  }
 ],
 "metadata": {
  "kernelspec": {
   "display_name": "Python 3 (ipykernel)",
   "language": "python",
   "name": "python3"
  },
  "language_info": {
   "codemirror_mode": {
    "name": "ipython",
    "version": 3
   },
   "file_extension": ".py",
   "mimetype": "text/x-python",
   "name": "python",
   "nbconvert_exporter": "python",
   "pygments_lexer": "ipython3",
   "version": "3.9.12"
  },
  "varInspector": {
   "cols": {
    "lenName": 16,
    "lenType": 16,
    "lenVar": 40
   },
   "kernels_config": {
    "python": {
     "delete_cmd_postfix": "",
     "delete_cmd_prefix": "del ",
     "library": "var_list.py",
     "varRefreshCmd": "print(var_dic_list())"
    },
    "r": {
     "delete_cmd_postfix": ") ",
     "delete_cmd_prefix": "rm(",
     "library": "var_list.r",
     "varRefreshCmd": "cat(var_dic_list()) "
    }
   },
   "types_to_exclude": [
    "module",
    "function",
    "builtin_function_or_method",
    "instance",
    "_Feature"
   ],
   "window_display": false
  }
 },
 "nbformat": 4,
 "nbformat_minor": 5
}
