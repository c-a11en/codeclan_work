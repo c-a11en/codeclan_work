{
 "cells": [
  {
   "cell_type": "markdown",
   "id": "7c0c85f9",
   "metadata": {},
   "source": [
    "Variable Assignment"
   ]
  },
  {
   "cell_type": "code",
   "execution_count": 1,
   "id": "e11fc495",
   "metadata": {},
   "outputs": [
    {
     "name": "stdout",
     "output_type": "stream",
     "text": [
      "3\n"
     ]
    }
   ],
   "source": [
    "x = 3\n",
    "print(x)"
   ]
  },
  {
   "cell_type": "code",
   "execution_count": 2,
   "id": "8ac95e26",
   "metadata": {},
   "outputs": [
    {
     "data": {
      "text/plain": [
       "3"
      ]
     },
     "execution_count": 2,
     "metadata": {},
     "output_type": "execute_result"
    }
   ],
   "source": [
    "x"
   ]
  },
  {
   "cell_type": "code",
   "execution_count": 3,
   "id": "2db71aaa",
   "metadata": {},
   "outputs": [
    {
     "data": {
      "text/plain": [
       "'Hello world!'"
      ]
     },
     "execution_count": 3,
     "metadata": {},
     "output_type": "execute_result"
    }
   ],
   "source": [
    "\"Hello world!\""
   ]
  },
  {
   "cell_type": "code",
   "execution_count": 4,
   "id": "66444a80",
   "metadata": {},
   "outputs": [
    {
     "data": {
      "text/plain": [
       "False"
      ]
     },
     "execution_count": 4,
     "metadata": {},
     "output_type": "execute_result"
    }
   ],
   "source": [
    "3 > 5"
   ]
  },
  {
   "cell_type": "code",
   "execution_count": 5,
   "id": "be4ce8a3",
   "metadata": {},
   "outputs": [
    {
     "data": {
      "text/plain": [
       "1"
      ]
     },
     "execution_count": 5,
     "metadata": {},
     "output_type": "execute_result"
    }
   ],
   "source": [
    "10 % 3"
   ]
  },
  {
   "cell_type": "code",
   "execution_count": 6,
   "id": "e7ea005e",
   "metadata": {},
   "outputs": [],
   "source": [
    "x = None"
   ]
  },
  {
   "cell_type": "code",
   "execution_count": 7,
   "id": "93d16597",
   "metadata": {},
   "outputs": [
    {
     "name": "stdout",
     "output_type": "stream",
     "text": [
      "None\n"
     ]
    }
   ],
   "source": [
    "print(x)"
   ]
  },
  {
   "cell_type": "code",
   "execution_count": 8,
   "id": "6a774d6d",
   "metadata": {},
   "outputs": [
    {
     "data": {
      "text/plain": [
       "0.6666666666666666"
      ]
     },
     "execution_count": 8,
     "metadata": {},
     "output_type": "execute_result"
    }
   ],
   "source": [
    "2 / 3"
   ]
  },
  {
   "cell_type": "code",
   "execution_count": 9,
   "id": "59ba693b",
   "metadata": {},
   "outputs": [
    {
     "data": {
      "text/plain": [
       "float"
      ]
     },
     "execution_count": 9,
     "metadata": {},
     "output_type": "execute_result"
    }
   ],
   "source": [
    "type(2 / 3)"
   ]
  },
  {
   "cell_type": "code",
   "execution_count": 10,
   "id": "db3184f0",
   "metadata": {},
   "outputs": [
    {
     "data": {
      "text/plain": [
       "str"
      ]
     },
     "execution_count": 10,
     "metadata": {},
     "output_type": "execute_result"
    }
   ],
   "source": [
    "type(\"hello\")"
   ]
  },
  {
   "cell_type": "code",
   "execution_count": 11,
   "id": "c09c6aec",
   "metadata": {},
   "outputs": [
    {
     "data": {
      "text/plain": [
       "int"
      ]
     },
     "execution_count": 11,
     "metadata": {},
     "output_type": "execute_result"
    }
   ],
   "source": [
    "type(1)"
   ]
  },
  {
   "cell_type": "code",
   "execution_count": 12,
   "id": "7f1f81c6",
   "metadata": {},
   "outputs": [
    {
     "data": {
      "text/plain": [
       "float"
      ]
     },
     "execution_count": 12,
     "metadata": {},
     "output_type": "execute_result"
    }
   ],
   "source": [
    "type(1234.5)"
   ]
  },
  {
   "cell_type": "code",
   "execution_count": 13,
   "id": "1f8364e1",
   "metadata": {},
   "outputs": [
    {
     "data": {
      "text/plain": [
       "bool"
      ]
     },
     "execution_count": 13,
     "metadata": {},
     "output_type": "execute_result"
    }
   ],
   "source": [
    "type(False)"
   ]
  },
  {
   "cell_type": "code",
   "execution_count": 14,
   "id": "90381ca4",
   "metadata": {},
   "outputs": [
    {
     "data": {
      "text/plain": [
       "NoneType"
      ]
     },
     "execution_count": 14,
     "metadata": {},
     "output_type": "execute_result"
    }
   ],
   "source": [
    "type(None)"
   ]
  },
  {
   "cell_type": "code",
   "execution_count": 15,
   "id": "6067d52e",
   "metadata": {
    "scrolled": true
   },
   "outputs": [
    {
     "data": {
      "text/plain": [
       "False"
      ]
     },
     "execution_count": 15,
     "metadata": {},
     "output_type": "execute_result"
    }
   ],
   "source": [
    "True\n",
    "False"
   ]
  },
  {
   "cell_type": "markdown",
   "id": "0d49e931",
   "metadata": {},
   "source": [
    "# Heading 1\n",
    "## Heading 2\n",
    "### Heading 3\n",
    "#### Heading 4\n",
    "\n",
    "*italics*\n",
    "**bold**\n",
    "\n",
    "1. A\n",
    "2. Numbered\n",
    "3. Lust\n",
    "\n",
    "* A\n",
    "* Bullet\n",
    "* List\n",
    "\n",
    "[A link!](https://www.google.com)\n"
   ]
  },
  {
   "cell_type": "markdown",
   "id": "09a6b62d",
   "metadata": {},
   "source": [
    "# Lists"
   ]
  },
  {
   "cell_type": "code",
   "execution_count": 16,
   "id": "dda36939",
   "metadata": {},
   "outputs": [
    {
     "data": {
      "text/plain": [
       "['key chain', 'wallet', 'phone', 4]"
      ]
     },
     "execution_count": 16,
     "metadata": {},
     "output_type": "execute_result"
    }
   ],
   "source": [
    "my_items = [\"key chain\", \"wallet\", \"phone\", 4]\n",
    "my_items"
   ]
  },
  {
   "cell_type": "code",
   "execution_count": 17,
   "id": "ca3a2cea",
   "metadata": {},
   "outputs": [
    {
     "data": {
      "text/plain": [
       "list"
      ]
     },
     "execution_count": 17,
     "metadata": {},
     "output_type": "execute_result"
    }
   ],
   "source": [
    "type(my_items)"
   ]
  },
  {
   "cell_type": "code",
   "execution_count": 18,
   "id": "99ac915c",
   "metadata": {},
   "outputs": [
    {
     "data": {
      "text/plain": [
       "False"
      ]
     },
     "execution_count": 18,
     "metadata": {},
     "output_type": "execute_result"
    }
   ],
   "source": [
    "5 == [5]"
   ]
  },
  {
   "cell_type": "code",
   "execution_count": 19,
   "id": "e6d3c2dd",
   "metadata": {},
   "outputs": [
    {
     "data": {
      "text/plain": [
       "int"
      ]
     },
     "execution_count": 19,
     "metadata": {},
     "output_type": "execute_result"
    }
   ],
   "source": [
    "type(my_items[3])"
   ]
  },
  {
   "cell_type": "markdown",
   "id": "8d4dfd92",
   "metadata": {},
   "source": [
    "0-indexed, **not** 1-indexed"
   ]
  },
  {
   "cell_type": "code",
   "execution_count": 20,
   "id": "ea4dd541",
   "metadata": {
    "scrolled": true
   },
   "outputs": [
    {
     "data": {
      "text/plain": [
       "'key chain'"
      ]
     },
     "execution_count": 20,
     "metadata": {},
     "output_type": "execute_result"
    }
   ],
   "source": [
    "my_items[0]"
   ]
  },
  {
   "cell_type": "code",
   "execution_count": 21,
   "id": "b09e0546",
   "metadata": {},
   "outputs": [
    {
     "data": {
      "text/plain": [
       "4"
      ]
     },
     "execution_count": 21,
     "metadata": {},
     "output_type": "execute_result"
    }
   ],
   "source": [
    "my_items[-1]"
   ]
  },
  {
   "cell_type": "code",
   "execution_count": 22,
   "id": "ca061513",
   "metadata": {},
   "outputs": [
    {
     "data": {
      "text/plain": [
       "['key chain', 'wallet']"
      ]
     },
     "execution_count": 22,
     "metadata": {},
     "output_type": "execute_result"
    }
   ],
   "source": [
    "my_items[0:2]"
   ]
  },
  {
   "cell_type": "code",
   "execution_count": 23,
   "id": "d0d29aac",
   "metadata": {},
   "outputs": [
    {
     "data": {
      "text/plain": [
       "['key chain', 'wallet']"
      ]
     },
     "execution_count": 23,
     "metadata": {},
     "output_type": "execute_result"
    }
   ],
   "source": [
    "my_items[:2]"
   ]
  },
  {
   "cell_type": "code",
   "execution_count": 24,
   "id": "84c37e89",
   "metadata": {},
   "outputs": [
    {
     "data": {
      "text/plain": [
       "['phone', 4]"
      ]
     },
     "execution_count": 24,
     "metadata": {},
     "output_type": "execute_result"
    }
   ],
   "source": [
    "my_items[2:]"
   ]
  },
  {
   "cell_type": "code",
   "execution_count": 25,
   "id": "6d6315fc",
   "metadata": {},
   "outputs": [
    {
     "data": {
      "text/plain": [
       "range(5, 10)"
      ]
     },
     "execution_count": 25,
     "metadata": {},
     "output_type": "execute_result"
    }
   ],
   "source": [
    "range(5, 10)"
   ]
  },
  {
   "cell_type": "code",
   "execution_count": 26,
   "id": "a9adda76",
   "metadata": {},
   "outputs": [
    {
     "data": {
      "text/plain": [
       "range"
      ]
     },
     "execution_count": 26,
     "metadata": {},
     "output_type": "execute_result"
    }
   ],
   "source": [
    "type(range(5, 10))"
   ]
  },
  {
   "cell_type": "code",
   "execution_count": 27,
   "id": "c7598d8f",
   "metadata": {},
   "outputs": [
    {
     "data": {
      "text/plain": [
       "[5, 6, 7, 8, 9]"
      ]
     },
     "execution_count": 27,
     "metadata": {},
     "output_type": "execute_result"
    }
   ],
   "source": [
    "list(range(5, 10))"
   ]
  },
  {
   "cell_type": "code",
   "execution_count": 28,
   "id": "521622d7",
   "metadata": {},
   "outputs": [
    {
     "data": {
      "text/plain": [
       "[0, 1, 2, 3, 4]"
      ]
     },
     "execution_count": 28,
     "metadata": {},
     "output_type": "execute_result"
    }
   ],
   "source": [
    "list(range(5))"
   ]
  },
  {
   "cell_type": "code",
   "execution_count": 29,
   "id": "b1e079bb",
   "metadata": {},
   "outputs": [],
   "source": [
    "things = [\"Apple\", \"Grape\", 101, \"Onion\", False]"
   ]
  },
  {
   "cell_type": "code",
   "execution_count": 30,
   "id": "466061ac",
   "metadata": {},
   "outputs": [
    {
     "data": {
      "text/plain": [
       "'Apple'"
      ]
     },
     "execution_count": 30,
     "metadata": {},
     "output_type": "execute_result"
    }
   ],
   "source": [
    "things[0]"
   ]
  },
  {
   "cell_type": "code",
   "execution_count": 31,
   "id": "6dcfb79e",
   "metadata": {},
   "outputs": [
    {
     "data": {
      "text/plain": [
       "False"
      ]
     },
     "execution_count": 31,
     "metadata": {},
     "output_type": "execute_result"
    }
   ],
   "source": [
    "things[-1]"
   ]
  },
  {
   "cell_type": "code",
   "execution_count": 32,
   "id": "e2660e9a",
   "metadata": {},
   "outputs": [
    {
     "data": {
      "text/plain": [
       "['Apple', 'Grape', 101, 'Onion']"
      ]
     },
     "execution_count": 32,
     "metadata": {},
     "output_type": "execute_result"
    }
   ],
   "source": [
    "things[:-1]"
   ]
  },
  {
   "cell_type": "code",
   "execution_count": 33,
   "id": "37bd0d6f",
   "metadata": {},
   "outputs": [
    {
     "data": {
      "text/plain": [
       "int"
      ]
     },
     "execution_count": 33,
     "metadata": {},
     "output_type": "execute_result"
    }
   ],
   "source": [
    "type(things[2])"
   ]
  },
  {
   "cell_type": "code",
   "execution_count": 34,
   "id": "83cef5a8",
   "metadata": {},
   "outputs": [
    {
     "data": {
      "text/plain": [
       "str"
      ]
     },
     "execution_count": 34,
     "metadata": {},
     "output_type": "execute_result"
    }
   ],
   "source": [
    "type(things[3])"
   ]
  },
  {
   "cell_type": "code",
   "execution_count": 35,
   "id": "67060d17",
   "metadata": {},
   "outputs": [
    {
     "data": {
      "text/plain": [
       "bool"
      ]
     },
     "execution_count": 35,
     "metadata": {},
     "output_type": "execute_result"
    }
   ],
   "source": [
    "type(things[4])"
   ]
  },
  {
   "cell_type": "code",
   "execution_count": 36,
   "id": "62ffe3ed",
   "metadata": {},
   "outputs": [
    {
     "data": {
      "text/plain": [
       "[11, 12, 13, 14, 15]"
      ]
     },
     "execution_count": 36,
     "metadata": {},
     "output_type": "execute_result"
    }
   ],
   "source": [
    "list(range(11, 16))"
   ]
  },
  {
   "cell_type": "code",
   "execution_count": 37,
   "id": "84f87cb5",
   "metadata": {},
   "outputs": [
    {
     "data": {
      "text/plain": [
       "6"
      ]
     },
     "execution_count": 37,
     "metadata": {},
     "output_type": "execute_result"
    }
   ],
   "source": [
    "sum([1,2,3])"
   ]
  },
  {
   "cell_type": "code",
   "execution_count": 38,
   "id": "ad3543f6",
   "metadata": {},
   "outputs": [],
   "source": [
    "numbers = [19, 4, 33, 6]"
   ]
  },
  {
   "cell_type": "code",
   "execution_count": 39,
   "id": "2ea050aa",
   "metadata": {},
   "outputs": [],
   "source": [
    "numbers.sort()"
   ]
  },
  {
   "cell_type": "code",
   "execution_count": 40,
   "id": "6314a2a5",
   "metadata": {},
   "outputs": [
    {
     "data": {
      "text/plain": [
       "[4, 6, 19, 33]"
      ]
     },
     "execution_count": 40,
     "metadata": {},
     "output_type": "execute_result"
    }
   ],
   "source": [
    "numbers"
   ]
  },
  {
   "cell_type": "code",
   "execution_count": 41,
   "id": "a79d3513",
   "metadata": {},
   "outputs": [
    {
     "data": {
      "text/plain": [
       "33"
      ]
     },
     "execution_count": 41,
     "metadata": {},
     "output_type": "execute_result"
    }
   ],
   "source": [
    "numbers.pop()"
   ]
  },
  {
   "cell_type": "code",
   "execution_count": 42,
   "id": "e77bb7cc",
   "metadata": {},
   "outputs": [
    {
     "data": {
      "text/plain": [
       "[4, 6, 19]"
      ]
     },
     "execution_count": 42,
     "metadata": {},
     "output_type": "execute_result"
    }
   ],
   "source": [
    "numbers"
   ]
  },
  {
   "cell_type": "code",
   "execution_count": 43,
   "id": "bee598c5",
   "metadata": {},
   "outputs": [],
   "source": [
    "numbers.append(5)"
   ]
  },
  {
   "cell_type": "code",
   "execution_count": 44,
   "id": "6847a558",
   "metadata": {},
   "outputs": [
    {
     "data": {
      "text/plain": [
       "[4, 6, 19, 5]"
      ]
     },
     "execution_count": 44,
     "metadata": {},
     "output_type": "execute_result"
    }
   ],
   "source": [
    "numbers"
   ]
  },
  {
   "cell_type": "code",
   "execution_count": 45,
   "id": "f2cec3da",
   "metadata": {},
   "outputs": [],
   "source": [
    "numbers.remove(5)"
   ]
  },
  {
   "cell_type": "code",
   "execution_count": 46,
   "id": "66b061aa",
   "metadata": {},
   "outputs": [
    {
     "data": {
      "text/plain": [
       "[4, 6, 19]"
      ]
     },
     "execution_count": 46,
     "metadata": {},
     "output_type": "execute_result"
    }
   ],
   "source": [
    "numbers"
   ]
  },
  {
   "cell_type": "code",
   "execution_count": 47,
   "id": "b275affa",
   "metadata": {},
   "outputs": [
    {
     "data": {
      "text/plain": [
       "[4, 6, 19, [7, 3, 99]]"
      ]
     },
     "execution_count": 47,
     "metadata": {},
     "output_type": "execute_result"
    }
   ],
   "source": [
    "numbers.append([7, 3, 99])\n",
    "numbers"
   ]
  },
  {
   "cell_type": "code",
   "execution_count": 48,
   "id": "2c49fbc9",
   "metadata": {},
   "outputs": [
    {
     "data": {
      "text/plain": [
       "[4, 6, 19, 7, 3, 99]"
      ]
     },
     "execution_count": 48,
     "metadata": {},
     "output_type": "execute_result"
    }
   ],
   "source": [
    "numbers.pop()\n",
    "numbers.extend([7, 3, 99])\n",
    "numbers"
   ]
  },
  {
   "cell_type": "code",
   "execution_count": 49,
   "id": "804942d2",
   "metadata": {},
   "outputs": [],
   "source": [
    "primes = [1, 2, 3, 5, 7]"
   ]
  },
  {
   "cell_type": "code",
   "execution_count": 50,
   "id": "7ea273dc",
   "metadata": {},
   "outputs": [
    {
     "data": {
      "text/plain": [
       "[2, 3, 5, 7]"
      ]
     },
     "execution_count": 50,
     "metadata": {},
     "output_type": "execute_result"
    }
   ],
   "source": [
    "primes.remove(1)\n",
    "primes"
   ]
  },
  {
   "cell_type": "code",
   "execution_count": 51,
   "id": "c6c84a92",
   "metadata": {},
   "outputs": [],
   "source": [
    "primes.extend([11, 13, 17])"
   ]
  },
  {
   "cell_type": "code",
   "execution_count": 52,
   "id": "5a7ac7ee",
   "metadata": {},
   "outputs": [
    {
     "data": {
      "text/plain": [
       "[2, 3, 5, 7, 11, 13, 17]"
      ]
     },
     "execution_count": 52,
     "metadata": {},
     "output_type": "execute_result"
    }
   ],
   "source": [
    "primes"
   ]
  },
  {
   "cell_type": "code",
   "execution_count": 53,
   "id": "11945df5",
   "metadata": {},
   "outputs": [
    {
     "name": "stdout",
     "output_type": "stream",
     "text": [
      "[17, 13, 11, 7, 5, 3, 2]\n"
     ]
    }
   ],
   "source": [
    "primes.reverse()\n",
    "print(primes)"
   ]
  },
  {
   "cell_type": "markdown",
   "id": "1211f5f9",
   "metadata": {},
   "source": [
    "# Dictionaries"
   ]
  },
  {
   "cell_type": "code",
   "execution_count": 54,
   "id": "0eb8a705",
   "metadata": {},
   "outputs": [
    {
     "data": {
      "text/plain": [
       "{'name': 'Jamie', 'age': 22}"
      ]
     },
     "execution_count": 54,
     "metadata": {},
     "output_type": "execute_result"
    }
   ],
   "source": [
    "person = {\n",
    "    \"name\": \"Jamie\",\n",
    "    \"age\": 22\n",
    "}\n",
    "person"
   ]
  },
  {
   "cell_type": "code",
   "execution_count": 55,
   "id": "b50284dd",
   "metadata": {},
   "outputs": [
    {
     "data": {
      "text/plain": [
       "dict"
      ]
     },
     "execution_count": 55,
     "metadata": {},
     "output_type": "execute_result"
    }
   ],
   "source": [
    "type(person)"
   ]
  },
  {
   "cell_type": "code",
   "execution_count": 56,
   "id": "fd3870fb",
   "metadata": {},
   "outputs": [
    {
     "data": {
      "text/plain": [
       "{'name': 'Scotland', 'age': 22}"
      ]
     },
     "execution_count": 56,
     "metadata": {},
     "output_type": "execute_result"
    }
   ],
   "source": [
    "person2 = {\n",
    "    \"name\": \"Colin\",\n",
    "    \"name\": \"Scotland\",\n",
    "    \"age\": 22\n",
    "}\n",
    "person2"
   ]
  },
  {
   "cell_type": "code",
   "execution_count": 57,
   "id": "ea0be726",
   "metadata": {},
   "outputs": [
    {
     "data": {
      "text/plain": [
       "'Jamie'"
      ]
     },
     "execution_count": 57,
     "metadata": {},
     "output_type": "execute_result"
    }
   ],
   "source": [
    "person[\"name\"]"
   ]
  },
  {
   "cell_type": "code",
   "execution_count": 58,
   "id": "201c6558",
   "metadata": {},
   "outputs": [
    {
     "data": {
      "text/plain": [
       "dict_keys(['name', 'age'])"
      ]
     },
     "execution_count": 58,
     "metadata": {},
     "output_type": "execute_result"
    }
   ],
   "source": [
    "person.keys()"
   ]
  },
  {
   "cell_type": "code",
   "execution_count": 59,
   "id": "a1e0d361",
   "metadata": {},
   "outputs": [
    {
     "data": {
      "text/plain": [
       "dict_values(['Jamie', 22])"
      ]
     },
     "execution_count": 59,
     "metadata": {},
     "output_type": "execute_result"
    }
   ],
   "source": [
    "person.values()"
   ]
  },
  {
   "cell_type": "code",
   "execution_count": 60,
   "id": "380d9edb",
   "metadata": {},
   "outputs": [
    {
     "data": {
      "text/plain": [
       "dict_items([('name', 'Jamie'), ('age', 22)])"
      ]
     },
     "execution_count": 60,
     "metadata": {},
     "output_type": "execute_result"
    }
   ],
   "source": [
    "person.items()"
   ]
  },
  {
   "cell_type": "code",
   "execution_count": 61,
   "id": "d852ac7f",
   "metadata": {},
   "outputs": [
    {
     "data": {
      "text/plain": [
       "2"
      ]
     },
     "execution_count": 61,
     "metadata": {},
     "output_type": "execute_result"
    }
   ],
   "source": [
    "len(person)"
   ]
  },
  {
   "cell_type": "code",
   "execution_count": 62,
   "id": "f92d153b",
   "metadata": {},
   "outputs": [
    {
     "data": {
      "text/plain": [
       "4"
      ]
     },
     "execution_count": 62,
     "metadata": {},
     "output_type": "execute_result"
    }
   ],
   "source": [
    "len(my_items)"
   ]
  },
  {
   "cell_type": "code",
   "execution_count": 63,
   "id": "d117ceee",
   "metadata": {},
   "outputs": [
    {
     "data": {
      "text/plain": [
       "{'name': 'Del', 'age': 22, 'preferred_jokes': ['dad jokes', 'puns']}"
      ]
     },
     "execution_count": 63,
     "metadata": {},
     "output_type": "execute_result"
    }
   ],
   "source": [
    "person.update({\n",
    "    \"name\": \"Del\",\n",
    "    \"preferred_jokes\": [\"dad jokes\", \"puns\"]\n",
    "})\n",
    "person"
   ]
  },
  {
   "cell_type": "code",
   "execution_count": 64,
   "id": "9c5bf3c7",
   "metadata": {},
   "outputs": [
    {
     "data": {
      "text/plain": [
       "22"
      ]
     },
     "execution_count": 64,
     "metadata": {},
     "output_type": "execute_result"
    }
   ],
   "source": [
    "person.pop(\"age\")"
   ]
  },
  {
   "cell_type": "code",
   "execution_count": 65,
   "id": "91ed62bb",
   "metadata": {},
   "outputs": [
    {
     "name": "stdout",
     "output_type": "stream",
     "text": [
      "{'uk': {'capital': 'London', 'population': 1000}, 'germany': {'capital': 'Berlin', 'population': 5}}\n"
     ]
    }
   ],
   "source": [
    "countries = {\n",
    "    \"uk\": {\n",
    "        \"capital\": \"London\",\n",
    "        \"population\": 1000\n",
    "    },\n",
    "    \"germany\": {\n",
    "        \"capital\": \"Berlin\",\n",
    "        \"population\": 5\n",
    "    }\n",
    "}\n",
    "print(countries)"
   ]
  },
  {
   "cell_type": "code",
   "execution_count": 66,
   "id": "1e7c4316",
   "metadata": {},
   "outputs": [
    {
     "data": {
      "text/plain": [
       "5"
      ]
     },
     "execution_count": 66,
     "metadata": {},
     "output_type": "execute_result"
    }
   ],
   "source": [
    "countries[\"germany\"][\"population\"]"
   ]
  },
  {
   "cell_type": "code",
   "execution_count": null,
   "id": "9cd7affb",
   "metadata": {},
   "outputs": [],
   "source": []
  },
  {
   "cell_type": "code",
   "execution_count": null,
   "id": "4a45c0c2",
   "metadata": {},
   "outputs": [],
   "source": []
  }
 ],
 "metadata": {
  "kernelspec": {
   "display_name": "Python 3 (ipykernel)",
   "language": "python",
   "name": "python3"
  },
  "language_info": {
   "codemirror_mode": {
    "name": "ipython",
    "version": 3
   },
   "file_extension": ".py",
   "mimetype": "text/x-python",
   "name": "python",
   "nbconvert_exporter": "python",
   "pygments_lexer": "ipython3",
   "version": "3.9.12"
  },
  "varInspector": {
   "cols": {
    "lenName": 16,
    "lenType": 16,
    "lenVar": 40
   },
   "kernels_config": {
    "python": {
     "delete_cmd_postfix": "",
     "delete_cmd_prefix": "del ",
     "library": "var_list.py",
     "varRefreshCmd": "print(var_dic_list())"
    },
    "r": {
     "delete_cmd_postfix": ") ",
     "delete_cmd_prefix": "rm(",
     "library": "var_list.r",
     "varRefreshCmd": "cat(var_dic_list()) "
    }
   },
   "oldHeight": 122.844,
   "position": {
    "height": "144.844px",
    "left": "587px",
    "right": "20px",
    "top": "120px",
    "width": "350px"
   },
   "types_to_exclude": [
    "module",
    "function",
    "builtin_function_or_method",
    "instance",
    "_Feature"
   ],
   "varInspector_section_display": "block",
   "window_display": false
  }
 },
 "nbformat": 4,
 "nbformat_minor": 5
}
